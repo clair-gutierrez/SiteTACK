{
 "cells": [
  {
   "cell_type": "code",
   "execution_count": 10,
   "id": "86d5854b-da08-40b5-8aca-ce2889aef96f",
   "metadata": {},
   "outputs": [],
   "source": [
    "import pandas as pd\n",
    "import numpy as np\n",
    "from tqdm.auto import tqdm\n",
    "from pycdhit import cd_hit, cd_hit_2d\n",
    "from pycdhit import read_fasta, read_clstr, CDHIT"
   ]
  },
  {
   "cell_type": "code",
   "execution_count": 18,
   "id": "773d90ec-e856-4d6a-87de-5935bdbb8966",
   "metadata": {},
   "outputs": [
    {
     "data": {
      "application/vnd.jupyter.widget-view+json": {
       "model_id": "db3d7a10118d400487c6271a032aaa3c",
       "version_major": 2,
       "version_minor": 0
      },
      "text/plain": [
       "  0%|          | 0/1 [00:00<?, ?it/s]"
      ]
     },
     "metadata": {},
     "output_type": "display_data"
    },
    {
     "data": {
      "application/vnd.jupyter.widget-view+json": {
       "model_id": "135bcefe31ab4c46a96ec1fdf096b261",
       "version_major": 2,
       "version_minor": 0
      },
      "text/plain": [
       "  0%|          | 0/6 [00:00<?, ?it/s]"
      ]
     },
     "metadata": {},
     "output_type": "display_data"
    }
   ],
   "source": [
    "\n",
    "\n",
    "ptm=\"O-GlcNAc\"\n",
    "dataset=\"O-GlcNAc\"\n",
    "org=\"All_org\"\n",
    "cutoffs=[0.9, 0.8, 0.7, 0.6, 0.5, 0.4]\n",
    "ns=[5, 5, 5, 4, 3, 2]\n",
    "labels=['no']\n",
    "orgs=['Humans']\n",
    "\n",
    "for label in labels:\n",
    "    for org in orgs:\n",
    "        for trial_num in tqdm(range (1, 2)):\n",
    "            for j in tqdm(range(0, len(cutoffs))):\n",
    "    \n",
    "                trial=f\"Trial{trial_num}\"\n",
    "                directory=f\"{dataset}/{ptm}/{org}/{trial}\"\n",
    "                test=f\"{directory}/Test_kmers_{label}_labels_29.fasta\"\n",
    "                train=f\"{directory}/Train_kmers_{label}_labels_29.fasta\"\n",
    "                output=f\"{directory}/New_test_{label}_labels_{cutoffs[j]}_29.txt\"\n",
    "        \n",
    "                res = cd_hit_2d(\n",
    "                    i=train,\n",
    "                    i2=test,\n",
    "                    o=output,\n",
    "                    c=cutoffs[j],\n",
    "                    d=0,\n",
    "                    n=ns[j], #word size\n",
    "                    S2=50 #Seqs n db2 can be 50 amino acids longer than db1 otherwise they must be strictly shorter\n",
    "                )\n"
   ]
  },
  {
   "cell_type": "code",
   "execution_count": null,
   "id": "663dd803-63f1-44fa-aa4f-c2bbfa7265df",
   "metadata": {},
   "outputs": [],
   "source": [
    "# ptms=['Phosphorylation_ST', 'Hydroxylation_K', 'Hydroxylation_P', 'Methylation_K', 'Methylation_R', 'N6-acetylation_K', 'N-glycosylation_N', \n",
    "     'O-glycosylation_ST', 'Pyrrolidone_Q', 'Phosphorylation_Y', 'S-Palmitoylation', 'SUMOylation_K', 'Ubiquitination_K']\n",
    "subptms=[ 'S-Palmitoylation_C', 'SUMOylation_K', 'Ubiquitination_K']\n",
    "sugars=['Full', 'GalNAc', 'HexNAc']"
   ]
  },
  {
   "cell_type": "code",
   "execution_count": null,
   "id": "99451b52-f9b6-4d21-a8ee-6e44cba2d62a",
   "metadata": {},
   "outputs": [],
   "source": []
  },
  {
   "cell_type": "code",
   "execution_count": null,
   "id": "239eb110-1412-4873-b8d9-8c888a0c5214",
   "metadata": {},
   "outputs": [],
   "source": []
  }
 ],
 "metadata": {
  "kernelspec": {
   "display_name": "Python 3 (ipykernel)",
   "language": "python",
   "name": "python3"
  },
  "language_info": {
   "codemirror_mode": {
    "name": "ipython",
    "version": 3
   },
   "file_extension": ".py",
   "mimetype": "text/x-python",
   "name": "python",
   "nbconvert_exporter": "python",
   "pygments_lexer": "ipython3",
   "version": "3.10.14"
  }
 },
 "nbformat": 4,
 "nbformat_minor": 5
}
